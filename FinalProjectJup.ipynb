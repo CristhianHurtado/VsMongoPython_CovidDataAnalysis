{
 "cells": [
  {
   "cell_type": "code",
   "execution_count": 10,
   "id": "b76185f0",
   "metadata": {},
   "outputs": [
    {
     "name": "stdout",
     "output_type": "stream",
     "text": [
      "Requirement already satisfied: pypyodbc in c:\\users\\tbg54\\anaconda3\\lib\\site-packages (1.3.6)\n",
      "Requirement already satisfied: setuptools in c:\\users\\tbg54\\anaconda3\\lib\\site-packages (from pypyodbc) (58.0.4)\n"
     ]
    }
   ],
   "source": [
    "!pip install pypyodbc"
   ]
  },
  {
   "cell_type": "code",
   "execution_count": 11,
   "id": "79239f29",
   "metadata": {},
   "outputs": [],
   "source": [
    "import pandas as pd\n",
    "import pypyodbc"
   ]
  },
  {
   "cell_type": "code",
   "execution_count": 12,
   "id": "c31ef374",
   "metadata": {},
   "outputs": [],
   "source": [
    "#Connects with database\n",
    "conn = pypyodbc.connect('Driver={SQL Server};'\n",
    "                      'Server=LAPTOP-DPKAQ8GL;'\n",
    "                      'Database=project;'\n",
    "                      'Trusted_Connection=yes;')"
   ]
  },
  {
   "cell_type": "code",
   "execution_count": 16,
   "id": "8f21cbc7",
   "metadata": {},
   "outputs": [],
   "source": [
    "#gets and format the cases\n",
    "sql_query = \"select provinceName,  CONCAT(DATEPART(YEAR ,date_report), '_' ,DATEPART(Quarter ,date_report)) as 'YrQtr', sum(cases) as 'Total Cases' \\\n",
    "            FROM PROVINCES P JOIN CASES C \\\n",
    "            on p.provinceCode = c.provinceCode \\\n",
    "            WHERE provinceName = 'ONTARIO' \\\n",
    "            GROUP BY provinceName, CONCAT(DATEPART(YEAR ,date_report), '_' ,DATEPART(Quarter ,date_report))\""
   ]
  },
  {
   "cell_type": "code",
   "execution_count": 17,
   "id": "59462a87",
   "metadata": {},
   "outputs": [
    {
     "data": {
      "text/html": [
       "<div>\n",
       "<style scoped>\n",
       "    .dataframe tbody tr th:only-of-type {\n",
       "        vertical-align: middle;\n",
       "    }\n",
       "\n",
       "    .dataframe tbody tr th {\n",
       "        vertical-align: top;\n",
       "    }\n",
       "\n",
       "    .dataframe thead th {\n",
       "        text-align: right;\n",
       "    }\n",
       "</style>\n",
       "<table border=\"1\" class=\"dataframe\">\n",
       "  <thead>\n",
       "    <tr style=\"text-align: right;\">\n",
       "      <th></th>\n",
       "      <th>provincename</th>\n",
       "      <th>yrqtr</th>\n",
       "      <th>total cases</th>\n",
       "    </tr>\n",
       "  </thead>\n",
       "  <tbody>\n",
       "    <tr>\n",
       "      <th>0</th>\n",
       "      <td>Ontario</td>\n",
       "      <td>2020_1</td>\n",
       "      <td>1964</td>\n",
       "    </tr>\n",
       "    <tr>\n",
       "      <th>1</th>\n",
       "      <td>Ontario</td>\n",
       "      <td>2020_2</td>\n",
       "      <td>34849</td>\n",
       "    </tr>\n",
       "    <tr>\n",
       "      <th>2</th>\n",
       "      <td>Ontario</td>\n",
       "      <td>2020_3</td>\n",
       "      <td>17064</td>\n",
       "    </tr>\n",
       "    <tr>\n",
       "      <th>3</th>\n",
       "      <td>Ontario</td>\n",
       "      <td>2020_4</td>\n",
       "      <td>132346</td>\n",
       "    </tr>\n",
       "    <tr>\n",
       "      <th>4</th>\n",
       "      <td>Ontario</td>\n",
       "      <td>2021_1</td>\n",
       "      <td>169541</td>\n",
       "    </tr>\n",
       "    <tr>\n",
       "      <th>5</th>\n",
       "      <td>Ontario</td>\n",
       "      <td>2021_2</td>\n",
       "      <td>195446</td>\n",
       "    </tr>\n",
       "    <tr>\n",
       "      <th>6</th>\n",
       "      <td>Ontario</td>\n",
       "      <td>2021_3</td>\n",
       "      <td>41542</td>\n",
       "    </tr>\n",
       "    <tr>\n",
       "      <th>7</th>\n",
       "      <td>Ontario</td>\n",
       "      <td>2021_4</td>\n",
       "      <td>180435</td>\n",
       "    </tr>\n",
       "    <tr>\n",
       "      <th>8</th>\n",
       "      <td>Ontario</td>\n",
       "      <td>2022_1</td>\n",
       "      <td>403915</td>\n",
       "    </tr>\n",
       "    <tr>\n",
       "      <th>9</th>\n",
       "      <td>Ontario</td>\n",
       "      <td>2022_2</td>\n",
       "      <td>12030</td>\n",
       "    </tr>\n",
       "  </tbody>\n",
       "</table>\n",
       "</div>"
      ],
      "text/plain": [
       "  provincename   yrqtr  total cases\n",
       "0      Ontario  2020_1         1964\n",
       "1      Ontario  2020_2        34849\n",
       "2      Ontario  2020_3        17064\n",
       "3      Ontario  2020_4       132346\n",
       "4      Ontario  2021_1       169541\n",
       "5      Ontario  2021_2       195446\n",
       "6      Ontario  2021_3        41542\n",
       "7      Ontario  2021_4       180435\n",
       "8      Ontario  2022_1       403915\n",
       "9      Ontario  2022_2        12030"
      ]
     },
     "execution_count": 17,
     "metadata": {},
     "output_type": "execute_result"
    }
   ],
   "source": [
    "#generates the table\n",
    "df = pd.read_sql(sql_query, conn)\n",
    "df"
   ]
  },
  {
   "cell_type": "code",
   "execution_count": 15,
   "id": "56fd74db",
   "metadata": {},
   "outputs": [
    {
     "data": {
      "text/plain": [
       "<AxesSubplot:title={'center':'Total Cases By Quarter Within Year - Ontario'}, xlabel='YrQtr'>"
      ]
     },
     "execution_count": 15,
     "metadata": {},
     "output_type": "execute_result"
    },
    {
     "data": {
      "image/png": "[encoded data removed]",
      "text/plain": [
       "<Figure size 432x288 with 1 Axes>"
      ]
     },
     "metadata": {
      "needs_background": "light"
     },
     "output_type": "display_data"
    }
   ],
   "source": [
    "#creates the graph\n",
    "df.plot(kind=\"bar\",x=\"yrqtr\", y=\"total cases\" ,xlabel=\"YrQtr\", title=\"Total Cases By Quarter Within Year - Ontario\")"
   ]
  },
  {
   "cell_type": "code",
   "execution_count": null,
   "id": "407fbab5",
   "metadata": {},
   "outputs": [],
   "source": []
  }
 ],
 "metadata": {
  "kernelspec": {
   "display_name": "Python 3 (ipykernel)",
   "language": "python",
   "name": "python3"
  },
  "language_info": {
   "codemirror_mode": {
    "name": "ipython",
    "version": 3
   },
   "file_extension": ".py",
   "mimetype": "text/x-python",
   "name": "python",
   "nbconvert_exporter": "python",
   "pygments_lexer": "ipython3",
   "version": "3.9.7"
  }
 },
 "nbformat": 4,
 "nbformat_minor": 5
}
